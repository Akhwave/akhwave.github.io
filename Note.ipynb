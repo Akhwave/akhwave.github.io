{
 "cells": [
  {
   "cell_type": "markdown",
   "metadata": {},
   "source": [
    "- *Bakery or Pastry Shop*\n",
    "* Features to Include: Daily or weekly menu, product descriptions with pictures, online ordering system for cakes or custom orders, blog section for recipes, events calendar for baking classes, and a newsletter signup for special promotions."
   ]
  },
  {
   "cell_type": "markdown",
   "metadata": {},
   "source": [
    "**KEY ELEMENTS TO INCLUDE**\n",
    "Homepage: An overview of the business, a call to action, and links to key pages.\n",
    "About Us: Information about the business's history, mission, and team members.\n",
    "Services/Products: Detailed descriptions of services or products offered, with pricing where applicable.\n",
    "Contact Information: Address, phone number, email, social media links, and a contact form.\n",
    "Testimonials or Reviews: Showcase customer feedback to build trust.\n",
    "Blog or News Section: Share updates, tips, and insights related to the business.\n",
    "Visuals: High-quality images and videos to showcase the business, products, or services."
   ]
  },
  {
   "cell_type": "markdown",
   "metadata": {},
   "source": [
    "- On the top row, I will have: Menu, Day's Special, About, Contact"
   ]
  },
  {
   "cell_type": "markdown",
   "metadata": {},
   "source": [
    "- Put emojis on the comments\n",
    "- Include searchbox in the middle to search for items"
   ]
  },
  {
   "cell_type": "markdown",
   "metadata": {},
   "source": [
    "**EXTRA**\n",
    "1. Make the navbuttons more dynamic"
   ]
  },
  {
   "cell_type": "markdown",
   "metadata": {},
   "source": [
    "**WHAT IS EXPECTED**\n",
    "- Amateur website\n",
    "- Can make a gallery image website such as getty images"
   ]
  }
 ],
 "metadata": {
  "kernelspec": {
   "display_name": "base",
   "language": "python",
   "name": "python3"
  },
  "language_info": {
   "codemirror_mode": {
    "name": "ipython",
    "version": 3
   },
   "file_extension": ".py",
   "mimetype": "text/x-python",
   "name": "python",
   "nbconvert_exporter": "python",
   "pygments_lexer": "ipython3",
   "version": "3.11.7"
  }
 },
 "nbformat": 4,
 "nbformat_minor": 2
}
